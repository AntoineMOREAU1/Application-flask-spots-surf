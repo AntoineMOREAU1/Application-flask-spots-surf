{
 "cells": [
  {
   "cell_type": "code",
   "execution_count": 45,
   "metadata": {},
   "outputs": [
    {
     "name": "stdout",
     "output_type": "stream",
     "text": [
      "Overwriting testeur.py\n"
     ]
    }
   ],
   "source": [
    "%%file testeur.py\n",
    "from flask import Flask\n",
    "\n",
    "app = Flask(__name__)\n",
    "\n",
    "from flask import render_template\n",
    "\n",
    "@app.route('/')\n",
    "def accueil():\n",
    "    return render_template('accueil.html')\n",
    "\n",
    "\n",
    "\n",
    "\n",
    "if __name__ == '__main__':\n",
    "    app.run(debug=True, port=2745) \n"
   ]
  },
  {
   "cell_type": "code",
   "execution_count": null,
   "metadata": {},
   "outputs": [
    {
     "name": "stdout",
     "output_type": "stream",
     "text": [
      " * Serving Flask app \"testeur\" (lazy loading)\n",
      " * Environment: production\n",
      "\u001b[31m   WARNING: This is a development server. Do not use it in a production deployment.\u001b[0m\n",
      "\u001b[2m   Use a production WSGI server instead.\u001b[0m\n",
      " * Debug mode: on\n",
      " * Running on http://127.0.0.1:2745/ (Press CTRL+C to quit)\n",
      " * Restarting with stat\n",
      " * Debugger is active!\n",
      " * Debugger PIN: 663-519-183\n",
      "127.0.0.1 - - [24/Feb/2020 14:46:11] \"GET / HTTP/1.1\" 500 -\n",
      "Traceback (most recent call last):\n",
      "  File \"/anaconda3/lib/python3.7/site-packages/flask/app.py\", line 2463, in __call__\n",
      "    return self.wsgi_app(environ, start_response)\n",
      "  File \"/anaconda3/lib/python3.7/site-packages/flask/app.py\", line 2449, in wsgi_app\n",
      "    response = self.handle_exception(e)\n",
      "  File \"/anaconda3/lib/python3.7/site-packages/flask/app.py\", line 1866, in handle_exception\n",
      "    reraise(exc_type, exc_value, tb)\n",
      "  File \"/anaconda3/lib/python3.7/site-packages/flask/_compat.py\", line 39, in reraise\n",
      "    raise value\n",
      "  File \"/anaconda3/lib/python3.7/site-packages/flask/app.py\", line 2446, in wsgi_app\n",
      "    response = self.full_dispatch_request()\n",
      "  File \"/anaconda3/lib/python3.7/site-packages/flask/app.py\", line 1951, in full_dispatch_request\n",
      "    rv = self.handle_user_exception(e)\n",
      "  File \"/anaconda3/lib/python3.7/site-packages/flask/app.py\", line 1820, in handle_user_exception\n",
      "    reraise(exc_type, exc_value, tb)\n",
      "  File \"/anaconda3/lib/python3.7/site-packages/flask/_compat.py\", line 39, in reraise\n",
      "    raise value\n",
      "  File \"/anaconda3/lib/python3.7/site-packages/flask/app.py\", line 1949, in full_dispatch_request\n",
      "    rv = self.dispatch_request()\n",
      "  File \"/anaconda3/lib/python3.7/site-packages/flask/app.py\", line 1935, in dispatch_request\n",
      "    return self.view_functions[rule.endpoint](**req.view_args)\n",
      "  File \"/Users/antoine/Desktop/app_flask/testeur.py\", line 10, in accueil\n",
      "    return render_template('accueil.html')\n",
      "  File \"/anaconda3/lib/python3.7/site-packages/flask/templating.py\", line 140, in render_template\n",
      "    ctx.app,\n",
      "  File \"/anaconda3/lib/python3.7/site-packages/flask/templating.py\", line 120, in _render\n",
      "    rv = template.render(context)\n",
      "  File \"/anaconda3/lib/python3.7/site-packages/jinja2/asyncsupport.py\", line 76, in render\n",
      "    return original_render(self, *args, **kwargs)\n",
      "  File \"/anaconda3/lib/python3.7/site-packages/jinja2/environment.py\", line 1008, in render\n",
      "    return self.environment.handle_exception(exc_info, True)\n",
      "  File \"/anaconda3/lib/python3.7/site-packages/jinja2/environment.py\", line 780, in handle_exception\n",
      "    reraise(exc_type, exc_value, tb)\n",
      "  File \"/anaconda3/lib/python3.7/site-packages/jinja2/_compat.py\", line 37, in reraise\n",
      "    raise value.with_traceback(tb)\n",
      "  File \"/Users/antoine/Desktop/app_flask/templates/accueil.html\", line 32, in top-level template code\n",
      "    {% block menu %}\n",
      "  File \"/anaconda3/lib/python3.7/site-packages/jinja2/environment.py\", line 1005, in render\n",
      "    return concat(self.root_render_func(self.new_context(vars)))\n",
      "  File \"/Users/antoine/Desktop/app_flask/templates/accueil.html\", line 14, in root\n",
      "    <link rel=\"dns-prefetch\" href=\"//fonts.googleapis.com\">\n",
      "  File \"/Users/antoine/Desktop/app_flask/templates/accueil.html\", line 43, in block_menu\n",
      "    <li class=\"nav-item\"> <a class=\"nav-link\" href=\"{{ url_for('comparePage')}}\">COMPARER</a> </li>\n",
      "  File \"/anaconda3/lib/python3.7/site-packages/flask/helpers.py\", line 370, in url_for\n",
      "    return appctx.app.handle_url_build_error(error, endpoint, values)\n",
      "  File \"/anaconda3/lib/python3.7/site-packages/flask/app.py\", line 2215, in handle_url_build_error\n",
      "    reraise(exc_type, exc_value, tb)\n",
      "  File \"/anaconda3/lib/python3.7/site-packages/flask/_compat.py\", line 39, in reraise\n",
      "    raise value\n",
      "  File \"/anaconda3/lib/python3.7/site-packages/flask/helpers.py\", line 358, in url_for\n",
      "    endpoint, values, method=method, force_external=external\n",
      "  File \"/anaconda3/lib/python3.7/site-packages/werkzeug/routing.py\", line 2020, in build\n",
      "    raise BuildError(endpoint, values, method, self)\n",
      "werkzeug.routing.BuildError: Could not build url for endpoint 'landingPage'. Did you mean 'static' instead?\n",
      "127.0.0.1 - - [24/Feb/2020 14:46:11] \"GET /?__debugger__=yes&cmd=resource&f=style.css HTTP/1.1\" 200 -\n",
      "127.0.0.1 - - [24/Feb/2020 14:46:11] \"GET /?__debugger__=yes&cmd=resource&f=jquery.js HTTP/1.1\" 200 -\n",
      "127.0.0.1 - - [24/Feb/2020 14:46:11] \"GET /?__debugger__=yes&cmd=resource&f=debugger.js HTTP/1.1\" 200 -\n",
      "127.0.0.1 - - [24/Feb/2020 14:46:11] \"GET /?__debugger__=yes&cmd=resource&f=console.png HTTP/1.1\" 200 -\n",
      "127.0.0.1 - - [24/Feb/2020 14:46:11] \"GET /?__debugger__=yes&cmd=resource&f=ubuntu.ttf HTTP/1.1\" 200 -\n"
     ]
    }
   ],
   "source": [
    "!python3 testeur.py"
   ]
  },
  {
   "cell_type": "code",
   "execution_count": null,
   "metadata": {},
   "outputs": [],
   "source": []
  },
  {
   "cell_type": "code",
   "execution_count": null,
   "metadata": {},
   "outputs": [],
   "source": []
  }
 ],
 "metadata": {
  "kernelspec": {
   "display_name": "Python 3",
   "language": "python",
   "name": "python3"
  },
  "language_info": {
   "codemirror_mode": {
    "name": "ipython",
    "version": 3
   },
   "file_extension": ".py",
   "mimetype": "text/x-python",
   "name": "python",
   "nbconvert_exporter": "python",
   "pygments_lexer": "ipython3",
   "version": "3.7.3"
  }
 },
 "nbformat": 4,
 "nbformat_minor": 4
}
