{
 "cells": [
  {
   "cell_type": "code",
   "execution_count": 61,
   "metadata": {},
   "outputs": [],
   "source": [
    "from pymongo import MongoClient\n",
    "\n",
    "\n"
   ]
  },
  {
   "cell_type": "code",
   "execution_count": 62,
   "metadata": {},
   "outputs": [],
   "source": [
    "client = MongoClient(\"0.0.0.0:27018\")\n",
    "\n",
    "database_spot = client.spotSurf\n",
    "\n",
    "collection_scrapy_items = database_spot['scrapy_items']\n",
    "\n"
   ]
  },
  {
   "cell_type": "code",
   "execution_count": 63,
   "metadata": {},
   "outputs": [
    {
     "data": {
      "text/plain": [
       "{'_id_': {'v': 2, 'key': [('_id', 1)], 'ns': 'spotSurf.scrapy_items'}}"
      ]
     },
     "execution_count": 63,
     "metadata": {},
     "output_type": "execute_result"
    }
   ],
   "source": [
    "collection_scrapy_items.index_information()"
   ]
  },
  {
   "cell_type": "code",
   "execution_count": 64,
   "metadata": {},
   "outputs": [
    {
     "data": {
      "text/plain": [
       "{'_id': ObjectId('5e54178c0cb2698c30fb9267'),\n",
       " 'name_spot': ['Pors Carn'],\n",
       " 'day_0': 'Lundi 24 Février',\n",
       " 'day_1': 'Mardi 25 Février',\n",
       " 'day_2': 'Mercredi 26 Février',\n",
       " 'day_3': 'Jeudi 27 Février',\n",
       " 'day_4': 'Vendredi 28 Février',\n",
       " 'swell_by_day': [[3.0, 3.2, 3.4, 3.6, 3.7],\n",
       "  [3.1, 3.1, 3.4, 4.3, 4.9],\n",
       "  [5.4, 4.9, 4.5, 4.1, 3.7],\n",
       "  [4.2, 4.4, 4.3, 4.0, 3.6],\n",
       "  [2.9, 3.2, 3.6, 3.8, 3.7]],\n",
       " 'interval_by_day': [['14', '13', '13', '12', '12'],\n",
       "  ['13', '12', '12', '10', '11'],\n",
       "  ['13', '13', '14', '14', '14'],\n",
       "  ['9', '10', '11', '11', '11'],\n",
       "  ['11', '11', '9', '10', '10']],\n",
       " 'vitesse_vent_by_day': [[31.0, 40.0, 42.0, 40.0, 38.0],\n",
       "  [37.0, 39.0, 48.0, 57.0, 55.0],\n",
       "  [49.0, 42.0, 39.0, 31.0, 28.0],\n",
       "  [51.0, 51.0, 48.0, 39.0, 23.0],\n",
       "  [38.0, 47.0, 45.0, 48.0, 39.0]],\n",
       " 'weather_by_day': [['Ciel clair',\n",
       "   'Ciel couvert',\n",
       "   'Ciel couvert',\n",
       "   'Ciel couvert',\n",
       "   'Pluie faible'],\n",
       "  ['Ciel couvert',\n",
       "   'Pluie faible',\n",
       "   'Pluie faible',\n",
       "   'Pluie faible',\n",
       "   'Pluie faible'],\n",
       "  ['Pluie et neige faible',\n",
       "   'Ciel nuageux',\n",
       "   'Pluie faible',\n",
       "   'Ciel couvert',\n",
       "   'Ciel couvert'],\n",
       "  ['Averses de pluie',\n",
       "   'Averses de pluie',\n",
       "   'Pluie faible',\n",
       "   'Pluie faible',\n",
       "   'Ciel couvert'],\n",
       "  ['Ciel couvert',\n",
       "   'Averses de pluie',\n",
       "   'Averses de pluie',\n",
       "   'Averses de pluie',\n",
       "   'Averses de pluie']],\n",
       " 'orientation_swell_by_day': [['Orientation vagues Ouest',\n",
       "   'Orientation vagues Ouest',\n",
       "   'Orientation vagues Ouest',\n",
       "   'Orientation vagues Ouest',\n",
       "   'Orientation vagues Ouest'],\n",
       "  ['Orientation vagues Ouest',\n",
       "   'Orientation vagues Ouest',\n",
       "   'Orientation vagues Ouest',\n",
       "   'Orientation vagues Ouest',\n",
       "   'Orientation vagues Ouest'],\n",
       "  ['Orientation vagues Ouest Nord Ouest',\n",
       "   'Orientation vagues Ouest Nord Ouest',\n",
       "   'Orientation vagues Ouest Nord Ouest',\n",
       "   'Orientation vagues Ouest Nord Ouest',\n",
       "   'Orientation vagues Ouest'],\n",
       "  ['Orientation vagues Ouest',\n",
       "   'Orientation vagues Ouest',\n",
       "   'Orientation vagues Ouest',\n",
       "   'Orientation vagues Ouest',\n",
       "   'Orientation vagues Ouest'],\n",
       "  ['Orientation vagues Ouest Sud Ouest',\n",
       "   'Orientation vagues Ouest Sud Ouest',\n",
       "   'Orientation vagues Ouest Sud Ouest',\n",
       "   'Orientation vagues Ouest Sud Ouest',\n",
       "   'Orientation vagues Ouest Sud Ouest']],\n",
       " 'orientation_wind_by_day': [['Orientation vent Sud Ouest',\n",
       "   'Orientation vent Ouest Sud Ouest',\n",
       "   'Orientation vent Ouest Sud Ouest',\n",
       "   'Orientation vent Ouest Sud Ouest',\n",
       "   'Orientation vent Ouest Sud Ouest'],\n",
       "  ['Orientation vent Ouest Nord Ouest',\n",
       "   'Orientation vent Ouest Nord Ouest',\n",
       "   'Orientation vent Ouest',\n",
       "   'Orientation vent Ouest',\n",
       "   'Orientation vent Ouest Nord Ouest'],\n",
       "  ['Orientation vent Nord Ouest',\n",
       "   'Orientation vent Nord Ouest',\n",
       "   'Orientation vent Nord Ouest',\n",
       "   'Orientation vent Ouest Nord Ouest',\n",
       "   'Orientation vent Ouest'],\n",
       "  ['Orientation vent Ouest',\n",
       "   'Orientation vent Ouest',\n",
       "   'Orientation vent Ouest',\n",
       "   'Orientation vent Ouest Nord Ouest',\n",
       "   'Orientation vent Ouest Nord Ouest'],\n",
       "  ['Orientation vent Sud Ouest',\n",
       "   'Orientation vent Ouest Sud Ouest',\n",
       "   'Orientation vent Ouest Sud Ouest',\n",
       "   'Orientation vent Ouest Sud Ouest',\n",
       "   'Orientation vent Ouest Sud Ouest']],\n",
       " 'temp_air_by_day': [[11.0, 11.0, 11.0, 11.0, 11.0],\n",
       "  [9.0, 10.0, 10.0, 10.0, 8.0],\n",
       "  [7.0, 8.0, 8.0, 8.0, 8.0],\n",
       "  [12.0, 12.0, 12.0, 12.0, 10.0],\n",
       "  [12.0, 12.0, 12.0, 12.0, 11.0]],\n",
       " 'swell_day_0': 3.38,\n",
       " 'swell_day_1': 3.7599999999999993,\n",
       " 'swell_day_2': 4.52,\n",
       " 'swell_day_3': 4.1000000000000005,\n",
       " 'swell_day_4': 3.44,\n",
       " 'temp_air_day_0': 11.0,\n",
       " 'temp_air_day_1': 9.4,\n",
       " 'temp_air_day_2': 7.8,\n",
       " 'temp_air_day_3': 11.6,\n",
       " 'temp_air_day_4': 11.8}"
      ]
     },
     "execution_count": 64,
     "metadata": {},
     "output_type": "execute_result"
    }
   ],
   "source": [
    "collection_scrapy_items.find_one()"
   ]
  },
  {
   "cell_type": "code",
   "execution_count": 60,
   "metadata": {},
   "outputs": [
    {
     "name": "stdout",
     "output_type": "stream",
     "text": [
      "{'_id': ObjectId('5e53f097116f752116cba8d4'), 'name_spot': ['Cap Gris Nez']}\n",
      "{'_id': ObjectId('5e53f097116f752116cba8d4'), 'name_spot': ['Cap Gris Nez']}\n",
      "{'_id': ObjectId('5e53f097116f752116cba8d4'), 'name_spot': ['Cap Gris Nez']}\n",
      "{'_id': ObjectId('5e53f097116f752116cba8d4'), 'name_spot': ['Cap Gris Nez']}\n",
      "{'_id': ObjectId('5e53f097116f752116cba8d4'), 'name_spot': ['Cap Gris Nez']}\n",
      "{'_id': ObjectId('5e53f097116f752116cba8d4'), 'name_spot': ['Cap Gris Nez']}\n",
      "{'_id': ObjectId('5e53f097116f752116cba8d4'), 'name_spot': ['Cap Gris Nez']}\n",
      "{'_id': ObjectId('5e53f097116f752116cba8d4'), 'name_spot': ['Cap Gris Nez']}\n",
      "{'_id': ObjectId('5e53f097116f752116cba8d4'), 'name_spot': ['Cap Gris Nez']}\n",
      "{'_id': ObjectId('5e53f097116f752116cba8d4'), 'name_spot': ['Cap Gris Nez']}\n",
      "{'_id': ObjectId('5e53f097116f752116cba8d4'), 'name_spot': ['Cap Gris Nez']}\n",
      "{'_id': ObjectId('5e53f097116f752116cba8d4'), 'name_spot': ['Cap Gris Nez']}\n",
      "{'_id': ObjectId('5e53f097116f752116cba8d4'), 'name_spot': ['Cap Gris Nez']}\n",
      "{'_id': ObjectId('5e53f097116f752116cba8d4'), 'name_spot': ['Cap Gris Nez']}\n",
      "{'_id': ObjectId('5e53f097116f752116cba8d4'), 'name_spot': ['Cap Gris Nez']}\n",
      "{'_id': ObjectId('5e53f097116f752116cba8d4'), 'name_spot': ['Cap Gris Nez']}\n",
      "{'_id': ObjectId('5e53f097116f752116cba8d4'), 'name_spot': ['Cap Gris Nez']}\n"
     ]
    }
   ],
   "source": [
    "for i in range(17) :\n",
    "    a= collection_scrapy_items.find_one({},{\"name_spot\":1})\n",
    "    print(a)\n"
   ]
  },
  {
   "cell_type": "code",
   "execution_count": 48,
   "metadata": {},
   "outputs": [
    {
     "data": {
      "text/plain": [
       "Collection(Database(MongoClient(host=['0.0.0.0:27018'], document_class=dict, tz_aware=False, connect=True), 'spotSurf'), 'scrapy_items.0')"
      ]
     },
     "execution_count": 48,
     "metadata": {},
     "output_type": "execute_result"
    }
   ],
   "source": [
    "collection_scrapy_items[0]\n"
   ]
  },
  {
   "cell_type": "code",
   "execution_count": 20,
   "metadata": {},
   "outputs": [
    {
     "ename": "TypeError",
     "evalue": "'Collection' object is not callable. If you meant to call the 'findOne' method on a 'Collection' object it is failing because no such method exists.",
     "output_type": "error",
     "traceback": [
      "\u001b[0;31m---------------------------------------------------------------------------\u001b[0m",
      "\u001b[0;31mTypeError\u001b[0m                                 Traceback (most recent call last)",
      "\u001b[0;32m<ipython-input-20-1f229e0d35d4>\u001b[0m in \u001b[0;36m<module>\u001b[0;34m\u001b[0m\n\u001b[0;32m----> 1\u001b[0;31m \u001b[0mcollection_scrapy_items\u001b[0m\u001b[0;34m.\u001b[0m\u001b[0mfindOne\u001b[0m\u001b[0;34m(\u001b[0m\u001b[0;34m)\u001b[0m\u001b[0;34m\u001b[0m\u001b[0;34m\u001b[0m\u001b[0m\n\u001b[0m",
      "\u001b[0;32m//anaconda3/lib/python3.7/site-packages/pymongo/collection.py\u001b[0m in \u001b[0;36m__call__\u001b[0;34m(self, *args, **kwargs)\u001b[0m\n\u001b[1;32m   3341\u001b[0m                         \u001b[0;34m\"call the '%s' method on a 'Collection' object it is \"\u001b[0m\u001b[0;34m\u001b[0m\u001b[0;34m\u001b[0m\u001b[0m\n\u001b[1;32m   3342\u001b[0m                         \u001b[0;34m\"failing because no such method exists.\"\u001b[0m \u001b[0;34m%\u001b[0m\u001b[0;34m\u001b[0m\u001b[0;34m\u001b[0m\u001b[0m\n\u001b[0;32m-> 3343\u001b[0;31m                         self.__name.split(\".\")[-1])\n\u001b[0m",
      "\u001b[0;31mTypeError\u001b[0m: 'Collection' object is not callable. If you meant to call the 'findOne' method on a 'Collection' object it is failing because no such method exists."
     ]
    }
   ],
   "source": [
    "collection_scrapy_items.findOne()"
   ]
  },
  {
   "cell_type": "code",
   "execution_count": null,
   "metadata": {},
   "outputs": [],
   "source": []
  }
 ],
 "metadata": {
  "kernelspec": {
   "display_name": "Python 3",
   "language": "python",
   "name": "python3"
  },
  "language_info": {
   "codemirror_mode": {
    "name": "ipython",
    "version": 3
   },
   "file_extension": ".py",
   "mimetype": "text/x-python",
   "name": "python",
   "nbconvert_exporter": "python",
   "pygments_lexer": "ipython3",
   "version": "3.7.3"
  }
 },
 "nbformat": 4,
 "nbformat_minor": 4
}
